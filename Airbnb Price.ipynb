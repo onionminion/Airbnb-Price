{
 "cells": [
  {
   "cell_type": "markdown",
   "metadata": {
    "id": "uHJpiXJSlzPc"
   },
   "source": [
    "# Predicting Prices of AirBnB’s in New York City\n",
    "### Nick Pacia (snp43), Lindsay Kim (ek532), Sooyeon Kim (sk2696)"
   ]
  },
  {
   "cell_type": "markdown",
   "metadata": {
    "id": "ZpixI3LImVeO"
   },
   "source": [
    "## Load Data"
   ]
  },
  {
   "cell_type": "code",
   "execution_count": 342,
   "metadata": {
    "colab": {
     "base_uri": "https://localhost:8080/"
    },
    "id": "LsM-ZRTI8iUH",
    "outputId": "f9149440-d892-429d-9807-00d3e239de40"
   },
   "outputs": [
    {
     "name": "stdout",
     "output_type": "stream",
     "text": [
      "Requirement already satisfied: scikit-learn==1.2 in /opt/homebrew/lib/python3.10/site-packages (1.2.0)\n",
      "Requirement already satisfied: numpy>=1.17.3 in /opt/homebrew/lib/python3.10/site-packages (from scikit-learn==1.2) (1.23.2)\n",
      "Requirement already satisfied: scipy>=1.3.2 in /opt/homebrew/lib/python3.10/site-packages (from scikit-learn==1.2) (1.9.3)\n",
      "Requirement already satisfied: threadpoolctl>=2.0.0 in /opt/homebrew/lib/python3.10/site-packages (from scikit-learn==1.2) (3.1.0)\n",
      "Requirement already satisfied: joblib>=1.1.1 in /opt/homebrew/lib/python3.10/site-packages (from scikit-learn==1.2) (1.2.0)\n"
     ]
    }
   ],
   "source": [
    "!pip install -U scikit-learn==1.2"
   ]
  },
  {
   "cell_type": "code",
   "execution_count": 343,
   "metadata": {
    "id": "0KONkvsg7-LA"
   },
   "outputs": [],
   "source": [
    "import re\n",
    "import pandas as pd\n",
    "import matplotlib.pyplot as plt\n",
    "import matplotlib as mpl\n",
    "import numpy as np\n",
    "from sklearn.model_selection import train_test_split\n",
    "from sklearn.compose import make_column_transformer\n",
    "from sklearn.feature_extraction.text import CountVectorizer\n",
    "from sklearn.preprocessing import OneHotEncoder, StandardScaler, MinMaxScaler\n",
    "from sklearn.linear_model import LinearRegression\n",
    "from sklearn.pipeline import make_pipeline\n",
    "from sklearn.pipeline import Pipeline\n",
    "from sklearn.metrics import r2_score, mean_squared_error, mean_absolute_percentage_error\n",
    "import seaborn as sns\n",
    "\n",
    "# Set default figure size and dpi\n",
    "mpl.rcParams['figure.figsize']= (7,5)\n",
    "mpl.rcParams['figure.dpi']= 110"
   ]
  },
  {
   "cell_type": "code",
   "execution_count": 344,
   "metadata": {
    "colab": {
     "base_uri": "https://localhost:8080/"
    },
    "id": "3rmTMx4U8W6x",
    "outputId": "a62ec452-a6ee-47fb-c4c3-fd9a44d1f81f"
   },
   "outputs": [],
   "source": [
    "# from google.colab import drive\n",
    "# drive.mount('/content/drive', force_remount=True)"
   ]
  },
  {
   "cell_type": "code",
   "execution_count": 345,
   "metadata": {
    "colab": {
     "base_uri": "https://localhost:8080/"
    },
    "id": "hbbpb8Jg8ZkU",
    "outputId": "11556d1d-1eff-48e3-8a28-3b1e1960f9d0"
   },
   "outputs": [],
   "source": [
    "# import os\n",
    "# os.chdir(\"/content/drive/My Drive/AML Final Project\")\n",
    "# !ls"
   ]
  },
  {
   "cell_type": "code",
   "execution_count": 346,
   "metadata": {
    "colab": {
     "base_uri": "https://localhost:8080/"
    },
    "id": "A72j6oN27-LB",
    "outputId": "02774ad7-b6b2-4d96-8701-31e22fa75f74"
   },
   "outputs": [
    {
     "name": "stdout",
     "output_type": "stream",
     "text": [
      "<class 'pandas.core.frame.DataFrame'>\n",
      "RangeIndex: 48895 entries, 0 to 48894\n",
      "Data columns (total 16 columns):\n",
      " #   Column                          Non-Null Count  Dtype  \n",
      "---  ------                          --------------  -----  \n",
      " 0   id                              48895 non-null  int64  \n",
      " 1   name                            48879 non-null  object \n",
      " 2   host_id                         48895 non-null  int64  \n",
      " 3   host_name                       48874 non-null  object \n",
      " 4   neighbourhood_group             48895 non-null  object \n",
      " 5   neighbourhood                   48895 non-null  object \n",
      " 6   latitude                        48895 non-null  float64\n",
      " 7   longitude                       48895 non-null  float64\n",
      " 8   room_type                       48895 non-null  object \n",
      " 9   price                           48895 non-null  int64  \n",
      " 10  minimum_nights                  48895 non-null  int64  \n",
      " 11  number_of_reviews               48895 non-null  int64  \n",
      " 12  last_review                     38843 non-null  object \n",
      " 13  reviews_per_month               38843 non-null  float64\n",
      " 14  calculated_host_listings_count  48895 non-null  int64  \n",
      " 15  availability_365                48895 non-null  int64  \n",
      "dtypes: float64(3), int64(7), object(6)\n",
      "memory usage: 6.0+ MB\n"
     ]
    }
   ],
   "source": [
    "df = pd.read_csv(\"AB_NYC_2019.csv\")\n",
    "\n",
    "df.info()"
   ]
  },
  {
   "cell_type": "markdown",
   "metadata": {
    "id": "7tdSWFPJmJsw"
   },
   "source": [
    "## Preprocessing"
   ]
  },
  {
   "cell_type": "code",
   "execution_count": 347,
   "metadata": {
    "id": "EYv48Mw57-LC"
   },
   "outputs": [],
   "source": [
    "# drop irrelevant columns and rename some\n",
    "df = df.drop([\"host_name\", \"host_id\", \"last_review\", \"id\"], axis = 1)\n",
    "df = df.rename({\"neighbourhood_group\": \"borough\", \n",
    "                \"neighbourhood\": \"neighborhood\"}, axis = 1)\n",
    "\n",
    "# fill na reviews_per_month with median reviews_per_month\n",
    "med = df[\"reviews_per_month\"].median()\n",
    "df[\"reviews_per_month\"] = df[\"reviews_per_month\"].fillna(med) \n",
    "\n",
    "# delete rows with price of 0\n",
    "df = df[df['price']!= 0]"
   ]
  },
  {
   "cell_type": "code",
   "execution_count": 348,
   "metadata": {
    "colab": {
     "base_uri": "https://localhost:8080/",
     "height": 455
    },
    "id": "zl_MQwqs7-LC",
    "outputId": "124ead4e-590a-4a82-aa85-c8a6856c3e07"
   },
   "outputs": [
    {
     "data": {
      "text/html": [
       "<div>\n",
       "<style scoped>\n",
       "    .dataframe tbody tr th:only-of-type {\n",
       "        vertical-align: middle;\n",
       "    }\n",
       "\n",
       "    .dataframe tbody tr th {\n",
       "        vertical-align: top;\n",
       "    }\n",
       "\n",
       "    .dataframe thead th {\n",
       "        text-align: right;\n",
       "    }\n",
       "</style>\n",
       "<table border=\"1\" class=\"dataframe\">\n",
       "  <thead>\n",
       "    <tr style=\"text-align: right;\">\n",
       "      <th></th>\n",
       "      <th>name</th>\n",
       "      <th>borough</th>\n",
       "      <th>neighborhood</th>\n",
       "      <th>latitude</th>\n",
       "      <th>longitude</th>\n",
       "      <th>room_type</th>\n",
       "      <th>price</th>\n",
       "      <th>minimum_nights</th>\n",
       "      <th>number_of_reviews</th>\n",
       "      <th>reviews_per_month</th>\n",
       "      <th>calculated_host_listings_count</th>\n",
       "      <th>availability_365</th>\n",
       "    </tr>\n",
       "  </thead>\n",
       "  <tbody>\n",
       "    <tr>\n",
       "      <th>0</th>\n",
       "      <td>Clean &amp; quiet apt home by the park</td>\n",
       "      <td>Brooklyn</td>\n",
       "      <td>Kensington</td>\n",
       "      <td>40.64749</td>\n",
       "      <td>-73.97237</td>\n",
       "      <td>Private room</td>\n",
       "      <td>149</td>\n",
       "      <td>1</td>\n",
       "      <td>9</td>\n",
       "      <td>0.21</td>\n",
       "      <td>6</td>\n",
       "      <td>365</td>\n",
       "    </tr>\n",
       "    <tr>\n",
       "      <th>1</th>\n",
       "      <td>Skylit Midtown Castle</td>\n",
       "      <td>Manhattan</td>\n",
       "      <td>Midtown</td>\n",
       "      <td>40.75362</td>\n",
       "      <td>-73.98377</td>\n",
       "      <td>Entire home/apt</td>\n",
       "      <td>225</td>\n",
       "      <td>1</td>\n",
       "      <td>45</td>\n",
       "      <td>0.38</td>\n",
       "      <td>2</td>\n",
       "      <td>355</td>\n",
       "    </tr>\n",
       "    <tr>\n",
       "      <th>2</th>\n",
       "      <td>THE VILLAGE OF HARLEM....NEW YORK !</td>\n",
       "      <td>Manhattan</td>\n",
       "      <td>Harlem</td>\n",
       "      <td>40.80902</td>\n",
       "      <td>-73.94190</td>\n",
       "      <td>Private room</td>\n",
       "      <td>150</td>\n",
       "      <td>3</td>\n",
       "      <td>0</td>\n",
       "      <td>0.72</td>\n",
       "      <td>1</td>\n",
       "      <td>365</td>\n",
       "    </tr>\n",
       "    <tr>\n",
       "      <th>3</th>\n",
       "      <td>Cozy Entire Floor of Brownstone</td>\n",
       "      <td>Brooklyn</td>\n",
       "      <td>Clinton Hill</td>\n",
       "      <td>40.68514</td>\n",
       "      <td>-73.95976</td>\n",
       "      <td>Entire home/apt</td>\n",
       "      <td>89</td>\n",
       "      <td>1</td>\n",
       "      <td>270</td>\n",
       "      <td>4.64</td>\n",
       "      <td>1</td>\n",
       "      <td>194</td>\n",
       "    </tr>\n",
       "    <tr>\n",
       "      <th>4</th>\n",
       "      <td>Entire Apt: Spacious Studio/Loft by central park</td>\n",
       "      <td>Manhattan</td>\n",
       "      <td>East Harlem</td>\n",
       "      <td>40.79851</td>\n",
       "      <td>-73.94399</td>\n",
       "      <td>Entire home/apt</td>\n",
       "      <td>80</td>\n",
       "      <td>10</td>\n",
       "      <td>9</td>\n",
       "      <td>0.10</td>\n",
       "      <td>1</td>\n",
       "      <td>0</td>\n",
       "    </tr>\n",
       "  </tbody>\n",
       "</table>\n",
       "</div>"
      ],
      "text/plain": [
       "                                               name    borough  neighborhood  \\\n",
       "0                Clean & quiet apt home by the park   Brooklyn    Kensington   \n",
       "1                             Skylit Midtown Castle  Manhattan       Midtown   \n",
       "2               THE VILLAGE OF HARLEM....NEW YORK !  Manhattan        Harlem   \n",
       "3                   Cozy Entire Floor of Brownstone   Brooklyn  Clinton Hill   \n",
       "4  Entire Apt: Spacious Studio/Loft by central park  Manhattan   East Harlem   \n",
       "\n",
       "   latitude  longitude        room_type  price  minimum_nights  \\\n",
       "0  40.64749  -73.97237     Private room    149               1   \n",
       "1  40.75362  -73.98377  Entire home/apt    225               1   \n",
       "2  40.80902  -73.94190     Private room    150               3   \n",
       "3  40.68514  -73.95976  Entire home/apt     89               1   \n",
       "4  40.79851  -73.94399  Entire home/apt     80              10   \n",
       "\n",
       "   number_of_reviews  reviews_per_month  calculated_host_listings_count  \\\n",
       "0                  9               0.21                               6   \n",
       "1                 45               0.38                               2   \n",
       "2                  0               0.72                               1   \n",
       "3                270               4.64                               1   \n",
       "4                  9               0.10                               1   \n",
       "\n",
       "   availability_365  \n",
       "0               365  \n",
       "1               355  \n",
       "2               365  \n",
       "3               194  \n",
       "4                 0  "
      ]
     },
     "execution_count": 348,
     "metadata": {},
     "output_type": "execute_result"
    }
   ],
   "source": [
    "df.head()"
   ]
  },
  {
   "cell_type": "code",
   "execution_count": 349,
   "metadata": {
    "colab": {
     "base_uri": "https://localhost:8080/",
     "height": 54
    },
    "id": "GXgV5Y63988Z",
    "outputId": "7e4f7ddd-70d4-4beb-9bce-f8d24a5e3e87"
   },
   "outputs": [
    {
     "data": {
      "image/png": "[encoded data removed]",
      "text/plain": [
       "<Figure size 1100x770 with 1 Axes>"
      ]
     },
     "metadata": {},
     "output_type": "display_data"
    }
   ],
   "source": [
    "fig, ax = plt.subplots(figsize=(10,7))\n",
    "plt.boxplot(df['price'])\n",
    "plt.show()"
   ]
  },
  {
   "cell_type": "code",
   "execution_count": 350,
   "metadata": {
    "id": "gfX_PouV99xL"
   },
   "outputs": [],
   "source": [
    "def find_outliers_IQR(df):\n",
    "    q1 = df.quantile(0.25)\n",
    "    q3 = df.quantile(0.75)\n",
    "    IQR = q3-q1\n",
    "    outliers = df[((df<(q1-1.5*IQR)) | (df>(q3+1.5*IQR)))]\n",
    "    return outliers"
   ]
  },
  {
   "cell_type": "code",
   "execution_count": 351,
   "metadata": {
    "colab": {
     "base_uri": "https://localhost:8080/"
    },
    "id": "E52LpurV9_xj",
    "outputId": "044b6e4c-f6ce-4fc2-a4dd-dec85dc46e95"
   },
   "outputs": [
    {
     "name": "stdout",
     "output_type": "stream",
     "text": [
      "number of outliers: 2972\n",
      "max outlier value: 10000\n",
      "min outlier value: 335\n"
     ]
    },
    {
     "data": {
      "text/plain": [
       "61       375\n",
       "85       800\n",
       "103      500\n",
       "114      350\n",
       "121      400\n",
       "        ... \n",
       "48758    350\n",
       "48833    475\n",
       "48839    800\n",
       "48842    350\n",
       "48856    345\n",
       "Name: price, Length: 2972, dtype: int64"
      ]
     },
     "execution_count": 351,
     "metadata": {},
     "output_type": "execute_result"
    }
   ],
   "source": [
    "outliers = find_outliers_IQR(df['price'])\n",
    "print('number of outliers: '+ str(len(outliers)))\n",
    "print('max outlier value: '+ str(outliers.max()))\n",
    "print('min outlier value: '+ str(outliers.min()))\n",
    "outliers"
   ]
  },
  {
   "cell_type": "code",
   "execution_count": 352,
   "metadata": {
    "colab": {
     "base_uri": "https://localhost:8080/"
    },
    "id": "OV9rlCv--BB6",
    "outputId": "3fa0fd5f-309e-4169-c43f-950c323577e2"
   },
   "outputs": [
    {
     "name": "stdout",
     "output_type": "stream",
     "text": [
      "number of outliers: 6605\n",
      "max outlier value: 1250\n",
      "min outlier value: 12\n"
     ]
    },
    {
     "data": {
      "text/plain": [
       "6        45\n",
       "14       90\n",
       "29       14\n",
       "36       60\n",
       "45       29\n",
       "         ..\n",
       "48810    30\n",
       "48843    29\n",
       "48871    29\n",
       "48879    20\n",
       "48882    20\n",
       "Name: minimum_nights, Length: 6605, dtype: int64"
      ]
     },
     "execution_count": 352,
     "metadata": {},
     "output_type": "execute_result"
    }
   ],
   "source": [
    "outliers = find_outliers_IQR(df['minimum_nights'])\n",
    "print('number of outliers: '+ str(len(outliers)))\n",
    "print('max outlier value: '+ str(outliers.max()))\n",
    "print('min outlier value: '+ str(outliers.min()))\n",
    "outliers"
   ]
  },
  {
   "cell_type": "code",
   "execution_count": 353,
   "metadata": {
    "colab": {
     "base_uri": "https://localhost:8080/"
    },
    "id": "-ja65YKQ-DZh",
    "outputId": "41ba3470-7d58-4549-87a6-aadabdb75b41"
   },
   "outputs": [
    {
     "name": "stdout",
     "output_type": "stream",
     "text": [
      "number of outliers: 6018\n",
      "max outlier value: 629\n",
      "min outlier value: 59\n"
     ]
    },
    {
     "data": {
      "text/plain": [
       "3        270\n",
       "5         74\n",
       "7        430\n",
       "8        118\n",
       "9        160\n",
       "        ... \n",
       "40104     65\n",
       "40297     95\n",
       "40424     65\n",
       "42075    156\n",
       "42076     82\n",
       "Name: number_of_reviews, Length: 6018, dtype: int64"
      ]
     },
     "execution_count": 353,
     "metadata": {},
     "output_type": "execute_result"
    }
   ],
   "source": [
    "outliers = find_outliers_IQR(df['number_of_reviews'])\n",
    "print('number of outliers: '+ str(len(outliers)))\n",
    "print('max outlier value: '+ str(outliers.max()))\n",
    "print('min outlier value: '+ str(outliers.min()))\n",
    "outliers"
   ]
  },
  {
   "cell_type": "code",
   "execution_count": 354,
   "metadata": {
    "colab": {
     "base_uri": "https://localhost:8080/"
    },
    "id": "PA52KM_L-EzM",
    "outputId": "ba6cbda9-c3bd-4dd2-803d-3b81d837c57b"
   },
   "outputs": [
    {
     "name": "stdout",
     "output_type": "stream",
     "text": [
      "number of outliers: 4100\n",
      "max outlier value: 58.5\n",
      "min outlier value: 3.54\n"
     ]
    },
    {
     "data": {
      "text/plain": [
       "3        4.64\n",
       "18       4.44\n",
       "67       4.72\n",
       "113      4.22\n",
       "137      3.89\n",
       "         ... \n",
       "47848    5.00\n",
       "47967    6.00\n",
       "48031    7.00\n",
       "48228    5.00\n",
       "48252    4.00\n",
       "Name: reviews_per_month, Length: 4100, dtype: float64"
      ]
     },
     "execution_count": 354,
     "metadata": {},
     "output_type": "execute_result"
    }
   ],
   "source": [
    "outliers = find_outliers_IQR(df['reviews_per_month'])\n",
    "print('number of outliers: '+ str(len(outliers)))\n",
    "print('max outlier value: '+ str(outliers.max()))\n",
    "print('min outlier value: '+ str(outliers.min()))\n",
    "outliers"
   ]
  },
  {
   "cell_type": "code",
   "execution_count": 355,
   "metadata": {
    "colab": {
     "base_uri": "https://localhost:8080/"
    },
    "id": "QDd6Aa9S-GmY",
    "outputId": "ed59716a-78a8-41e3-f861-03deb58b6cd5"
   },
   "outputs": [
    {
     "name": "stdout",
     "output_type": "stream",
     "text": [
      "number of outliers: 7073\n",
      "max outlier value: 327\n",
      "min outlier value: 4\n"
     ]
    },
    {
     "data": {
      "text/plain": [
       "0        6\n",
       "9        4\n",
       "21       6\n",
       "22       6\n",
       "23       6\n",
       "        ..\n",
       "48858    4\n",
       "48867    6\n",
       "48868    6\n",
       "48878    5\n",
       "48893    6\n",
       "Name: calculated_host_listings_count, Length: 7073, dtype: int64"
      ]
     },
     "execution_count": 355,
     "metadata": {},
     "output_type": "execute_result"
    }
   ],
   "source": [
    "outliers = find_outliers_IQR(df['calculated_host_listings_count'])\n",
    "print('number of outliers: '+ str(len(outliers)))\n",
    "print('max outlier value: '+ str(outliers.max()))\n",
    "print('min outlier value: '+ str(outliers.min()))\n",
    "outliers"
   ]
  },
  {
   "cell_type": "code",
   "execution_count": 356,
   "metadata": {
    "colab": {
     "base_uri": "https://localhost:8080/"
    },
    "id": "mGLIEmeZ-IUH",
    "outputId": "138c16cb-b8cd-486b-8d8c-a412f9837635"
   },
   "outputs": [
    {
     "name": "stdout",
     "output_type": "stream",
     "text": [
      "number of outliers: 0\n",
      "max outlier value: nan\n",
      "min outlier value: nan\n"
     ]
    },
    {
     "data": {
      "text/plain": [
       "Series([], Name: availability_365, dtype: int64)"
      ]
     },
     "execution_count": 356,
     "metadata": {},
     "output_type": "execute_result"
    }
   ],
   "source": [
    "outliers = find_outliers_IQR(df['availability_365'])\n",
    "print('number of outliers: '+ str(len(outliers)))\n",
    "print('max outlier value: '+ str(outliers.max()))\n",
    "print('min outlier value: '+ str(outliers.min()))\n",
    "outliers"
   ]
  },
  {
   "cell_type": "code",
   "execution_count": 357,
   "metadata": {
    "id": "WbeHqmxT-JAm"
   },
   "outputs": [],
   "source": [
    "def impute_outliers_IQR(df):\n",
    "    q1=df.quantile(0.25)\n",
    "    q3=df.quantile(0.75)\n",
    "    IQR=q3-q1\n",
    "    upper = df[~(df>(q3+1.5*IQR))].max()\n",
    "    lower = df[~(df<(q1-1.5*IQR))].min()\n",
    "    df = np.where(df > upper, df.mean(), np.where(df < lower, df.median(), df))\n",
    "    return df"
   ]
  },
  {
   "cell_type": "code",
   "execution_count": 358,
   "metadata": {
    "colab": {
     "base_uri": "https://localhost:8080/",
     "height": 857
    },
    "id": "lCT2QEY4-KYZ",
    "outputId": "7b182c34-f613-498a-f121-ab0a669dd5c6"
   },
   "outputs": [
    {
     "data": {
      "text/html": [
       "<div>\n",
       "<style scoped>\n",
       "    .dataframe tbody tr th:only-of-type {\n",
       "        vertical-align: middle;\n",
       "    }\n",
       "\n",
       "    .dataframe tbody tr th {\n",
       "        vertical-align: top;\n",
       "    }\n",
       "\n",
       "    .dataframe thead th {\n",
       "        text-align: right;\n",
       "    }\n",
       "</style>\n",
       "<table border=\"1\" class=\"dataframe\">\n",
       "  <thead>\n",
       "    <tr style=\"text-align: right;\">\n",
       "      <th></th>\n",
       "      <th>name</th>\n",
       "      <th>borough</th>\n",
       "      <th>neighborhood</th>\n",
       "      <th>latitude</th>\n",
       "      <th>longitude</th>\n",
       "      <th>room_type</th>\n",
       "      <th>price</th>\n",
       "      <th>minimum_nights</th>\n",
       "      <th>number_of_reviews</th>\n",
       "      <th>reviews_per_month</th>\n",
       "      <th>calculated_host_listings_count</th>\n",
       "      <th>availability_365</th>\n",
       "    </tr>\n",
       "  </thead>\n",
       "  <tbody>\n",
       "    <tr>\n",
       "      <th>0</th>\n",
       "      <td>Clean &amp; quiet apt home by the park</td>\n",
       "      <td>Brooklyn</td>\n",
       "      <td>Kensington</td>\n",
       "      <td>40.64749</td>\n",
       "      <td>-73.97237</td>\n",
       "      <td>Private room</td>\n",
       "      <td>149.0</td>\n",
       "      <td>1.0</td>\n",
       "      <td>9.000000</td>\n",
       "      <td>0.210000</td>\n",
       "      <td>7.144628</td>\n",
       "      <td>365</td>\n",
       "    </tr>\n",
       "    <tr>\n",
       "      <th>1</th>\n",
       "      <td>Skylit Midtown Castle</td>\n",
       "      <td>Manhattan</td>\n",
       "      <td>Midtown</td>\n",
       "      <td>40.75362</td>\n",
       "      <td>-73.98377</td>\n",
       "      <td>Entire home/apt</td>\n",
       "      <td>225.0</td>\n",
       "      <td>1.0</td>\n",
       "      <td>45.000000</td>\n",
       "      <td>0.380000</td>\n",
       "      <td>2.000000</td>\n",
       "      <td>355</td>\n",
       "    </tr>\n",
       "    <tr>\n",
       "      <th>2</th>\n",
       "      <td>THE VILLAGE OF HARLEM....NEW YORK !</td>\n",
       "      <td>Manhattan</td>\n",
       "      <td>Harlem</td>\n",
       "      <td>40.80902</td>\n",
       "      <td>-73.94190</td>\n",
       "      <td>Private room</td>\n",
       "      <td>150.0</td>\n",
       "      <td>3.0</td>\n",
       "      <td>0.000000</td>\n",
       "      <td>0.720000</td>\n",
       "      <td>1.000000</td>\n",
       "      <td>365</td>\n",
       "    </tr>\n",
       "    <tr>\n",
       "      <th>3</th>\n",
       "      <td>Cozy Entire Floor of Brownstone</td>\n",
       "      <td>Brooklyn</td>\n",
       "      <td>Clinton Hill</td>\n",
       "      <td>40.68514</td>\n",
       "      <td>-73.95976</td>\n",
       "      <td>Entire home/apt</td>\n",
       "      <td>89.0</td>\n",
       "      <td>1.0</td>\n",
       "      <td>23.271991</td>\n",
       "      <td>1.238839</td>\n",
       "      <td>1.000000</td>\n",
       "      <td>194</td>\n",
       "    </tr>\n",
       "    <tr>\n",
       "      <th>4</th>\n",
       "      <td>Entire Apt: Spacious Studio/Loft by central park</td>\n",
       "      <td>Manhattan</td>\n",
       "      <td>East Harlem</td>\n",
       "      <td>40.79851</td>\n",
       "      <td>-73.94399</td>\n",
       "      <td>Entire home/apt</td>\n",
       "      <td>80.0</td>\n",
       "      <td>10.0</td>\n",
       "      <td>9.000000</td>\n",
       "      <td>0.100000</td>\n",
       "      <td>1.000000</td>\n",
       "      <td>0</td>\n",
       "    </tr>\n",
       "    <tr>\n",
       "      <th>...</th>\n",
       "      <td>...</td>\n",
       "      <td>...</td>\n",
       "      <td>...</td>\n",
       "      <td>...</td>\n",
       "      <td>...</td>\n",
       "      <td>...</td>\n",
       "      <td>...</td>\n",
       "      <td>...</td>\n",
       "      <td>...</td>\n",
       "      <td>...</td>\n",
       "      <td>...</td>\n",
       "      <td>...</td>\n",
       "    </tr>\n",
       "    <tr>\n",
       "      <th>48890</th>\n",
       "      <td>Charming one bedroom - newly renovated rowhouse</td>\n",
       "      <td>Brooklyn</td>\n",
       "      <td>Bedford-Stuyvesant</td>\n",
       "      <td>40.67853</td>\n",
       "      <td>-73.94995</td>\n",
       "      <td>Private room</td>\n",
       "      <td>70.0</td>\n",
       "      <td>2.0</td>\n",
       "      <td>0.000000</td>\n",
       "      <td>0.720000</td>\n",
       "      <td>2.000000</td>\n",
       "      <td>9</td>\n",
       "    </tr>\n",
       "    <tr>\n",
       "      <th>48891</th>\n",
       "      <td>Affordable room in Bushwick/East Williamsburg</td>\n",
       "      <td>Brooklyn</td>\n",
       "      <td>Bushwick</td>\n",
       "      <td>40.70184</td>\n",
       "      <td>-73.93317</td>\n",
       "      <td>Private room</td>\n",
       "      <td>40.0</td>\n",
       "      <td>4.0</td>\n",
       "      <td>0.000000</td>\n",
       "      <td>0.720000</td>\n",
       "      <td>2.000000</td>\n",
       "      <td>36</td>\n",
       "    </tr>\n",
       "    <tr>\n",
       "      <th>48892</th>\n",
       "      <td>Sunny Studio at Historical Neighborhood</td>\n",
       "      <td>Manhattan</td>\n",
       "      <td>Harlem</td>\n",
       "      <td>40.81475</td>\n",
       "      <td>-73.94867</td>\n",
       "      <td>Entire home/apt</td>\n",
       "      <td>115.0</td>\n",
       "      <td>10.0</td>\n",
       "      <td>0.000000</td>\n",
       "      <td>0.720000</td>\n",
       "      <td>1.000000</td>\n",
       "      <td>27</td>\n",
       "    </tr>\n",
       "    <tr>\n",
       "      <th>48893</th>\n",
       "      <td>43rd St. Time Square-cozy single bed</td>\n",
       "      <td>Manhattan</td>\n",
       "      <td>Hell's Kitchen</td>\n",
       "      <td>40.75751</td>\n",
       "      <td>-73.99112</td>\n",
       "      <td>Shared room</td>\n",
       "      <td>55.0</td>\n",
       "      <td>1.0</td>\n",
       "      <td>0.000000</td>\n",
       "      <td>0.720000</td>\n",
       "      <td>7.144628</td>\n",
       "      <td>2</td>\n",
       "    </tr>\n",
       "    <tr>\n",
       "      <th>48894</th>\n",
       "      <td>Trendy duplex in the very heart of Hell's Kitchen</td>\n",
       "      <td>Manhattan</td>\n",
       "      <td>Hell's Kitchen</td>\n",
       "      <td>40.76404</td>\n",
       "      <td>-73.98933</td>\n",
       "      <td>Private room</td>\n",
       "      <td>90.0</td>\n",
       "      <td>7.0</td>\n",
       "      <td>0.000000</td>\n",
       "      <td>0.720000</td>\n",
       "      <td>1.000000</td>\n",
       "      <td>23</td>\n",
       "    </tr>\n",
       "  </tbody>\n",
       "</table>\n",
       "<p>48884 rows × 12 columns</p>\n",
       "</div>"
      ],
      "text/plain": [
       "                                                    name    borough  \\\n",
       "0                     Clean & quiet apt home by the park   Brooklyn   \n",
       "1                                  Skylit Midtown Castle  Manhattan   \n",
       "2                    THE VILLAGE OF HARLEM....NEW YORK !  Manhattan   \n",
       "3                        Cozy Entire Floor of Brownstone   Brooklyn   \n",
       "4       Entire Apt: Spacious Studio/Loft by central park  Manhattan   \n",
       "...                                                  ...        ...   \n",
       "48890    Charming one bedroom - newly renovated rowhouse   Brooklyn   \n",
       "48891      Affordable room in Bushwick/East Williamsburg   Brooklyn   \n",
       "48892            Sunny Studio at Historical Neighborhood  Manhattan   \n",
       "48893               43rd St. Time Square-cozy single bed  Manhattan   \n",
       "48894  Trendy duplex in the very heart of Hell's Kitchen  Manhattan   \n",
       "\n",
       "             neighborhood  latitude  longitude        room_type  price  \\\n",
       "0              Kensington  40.64749  -73.97237     Private room  149.0   \n",
       "1                 Midtown  40.75362  -73.98377  Entire home/apt  225.0   \n",
       "2                  Harlem  40.80902  -73.94190     Private room  150.0   \n",
       "3            Clinton Hill  40.68514  -73.95976  Entire home/apt   89.0   \n",
       "4             East Harlem  40.79851  -73.94399  Entire home/apt   80.0   \n",
       "...                   ...       ...        ...              ...    ...   \n",
       "48890  Bedford-Stuyvesant  40.67853  -73.94995     Private room   70.0   \n",
       "48891            Bushwick  40.70184  -73.93317     Private room   40.0   \n",
       "48892              Harlem  40.81475  -73.94867  Entire home/apt  115.0   \n",
       "48893      Hell's Kitchen  40.75751  -73.99112      Shared room   55.0   \n",
       "48894      Hell's Kitchen  40.76404  -73.98933     Private room   90.0   \n",
       "\n",
       "       minimum_nights  number_of_reviews  reviews_per_month  \\\n",
       "0                 1.0           9.000000           0.210000   \n",
       "1                 1.0          45.000000           0.380000   \n",
       "2                 3.0           0.000000           0.720000   \n",
       "3                 1.0          23.271991           1.238839   \n",
       "4                10.0           9.000000           0.100000   \n",
       "...               ...                ...                ...   \n",
       "48890             2.0           0.000000           0.720000   \n",
       "48891             4.0           0.000000           0.720000   \n",
       "48892            10.0           0.000000           0.720000   \n",
       "48893             1.0           0.000000           0.720000   \n",
       "48894             7.0           0.000000           0.720000   \n",
       "\n",
       "       calculated_host_listings_count  availability_365  \n",
       "0                            7.144628               365  \n",
       "1                            2.000000               355  \n",
       "2                            1.000000               365  \n",
       "3                            1.000000               194  \n",
       "4                            1.000000                 0  \n",
       "...                               ...               ...  \n",
       "48890                        2.000000                 9  \n",
       "48891                        2.000000                36  \n",
       "48892                        1.000000                27  \n",
       "48893                        7.144628                 2  \n",
       "48894                        1.000000                23  \n",
       "\n",
       "[48884 rows x 12 columns]"
      ]
     },
     "execution_count": 358,
     "metadata": {},
     "output_type": "execute_result"
    }
   ],
   "source": [
    "df['price'] = impute_outliers_IQR(df['price'])\n",
    "df['minimum_nights'] = impute_outliers_IQR(df['minimum_nights'])\n",
    "df['number_of_reviews'] = impute_outliers_IQR(df['number_of_reviews'])\n",
    "df['reviews_per_month'] = impute_outliers_IQR(df['reviews_per_month'])\n",
    "df['calculated_host_listings_count'] = impute_outliers_IQR(df['calculated_host_listings_count'])\n",
    "df"
   ]
  },
  {
   "cell_type": "code",
   "execution_count": 359,
   "metadata": {
    "colab": {
     "base_uri": "https://localhost:8080/",
     "height": 361
    },
    "id": "HUvbPTN3-NZW",
    "outputId": "6210dd17-37ff-4bc1-f067-6765837dd0fc"
   },
   "outputs": [
    {
     "data": {
      "text/html": [
       "<div>\n",
       "<style scoped>\n",
       "    .dataframe tbody tr th:only-of-type {\n",
       "        vertical-align: middle;\n",
       "    }\n",
       "\n",
       "    .dataframe tbody tr th {\n",
       "        vertical-align: top;\n",
       "    }\n",
       "\n",
       "    .dataframe thead th {\n",
       "        text-align: right;\n",
       "    }\n",
       "</style>\n",
       "<table border=\"1\" class=\"dataframe\">\n",
       "  <thead>\n",
       "    <tr style=\"text-align: right;\">\n",
       "      <th></th>\n",
       "      <th>latitude</th>\n",
       "      <th>longitude</th>\n",
       "      <th>price</th>\n",
       "      <th>minimum_nights</th>\n",
       "      <th>number_of_reviews</th>\n",
       "      <th>reviews_per_month</th>\n",
       "      <th>calculated_host_listings_count</th>\n",
       "      <th>availability_365</th>\n",
       "    </tr>\n",
       "  </thead>\n",
       "  <tbody>\n",
       "    <tr>\n",
       "      <th>count</th>\n",
       "      <td>48884.000000</td>\n",
       "      <td>48884.000000</td>\n",
       "      <td>48884.000000</td>\n",
       "      <td>48884.000000</td>\n",
       "      <td>48884.000000</td>\n",
       "      <td>48884.000000</td>\n",
       "      <td>48884.000000</td>\n",
       "      <td>48884.000000</td>\n",
       "    </tr>\n",
       "    <tr>\n",
       "      <th>mean</th>\n",
       "      <td>40.728953</td>\n",
       "      <td>-73.952176</td>\n",
       "      <td>121.990529</td>\n",
       "      <td>3.288876</td>\n",
       "      <td>11.335362</td>\n",
       "      <td>0.915085</td>\n",
       "      <td>2.141968</td>\n",
       "      <td>112.779498</td>\n",
       "    </tr>\n",
       "    <tr>\n",
       "      <th>std</th>\n",
       "      <td>0.054532</td>\n",
       "      <td>0.046159</td>\n",
       "      <td>66.491669</td>\n",
       "      <td>2.274036</td>\n",
       "      <td>13.286223</td>\n",
       "      <td>0.810454</td>\n",
       "      <td>2.128049</td>\n",
       "      <td>131.627271</td>\n",
       "    </tr>\n",
       "    <tr>\n",
       "      <th>min</th>\n",
       "      <td>40.499790</td>\n",
       "      <td>-74.244420</td>\n",
       "      <td>10.000000</td>\n",
       "      <td>1.000000</td>\n",
       "      <td>0.000000</td>\n",
       "      <td>0.010000</td>\n",
       "      <td>1.000000</td>\n",
       "      <td>0.000000</td>\n",
       "    </tr>\n",
       "    <tr>\n",
       "      <th>25%</th>\n",
       "      <td>40.690100</td>\n",
       "      <td>-73.983080</td>\n",
       "      <td>69.000000</td>\n",
       "      <td>1.000000</td>\n",
       "      <td>1.000000</td>\n",
       "      <td>0.280000</td>\n",
       "      <td>1.000000</td>\n",
       "      <td>0.000000</td>\n",
       "    </tr>\n",
       "    <tr>\n",
       "      <th>50%</th>\n",
       "      <td>40.723080</td>\n",
       "      <td>-73.955685</td>\n",
       "      <td>106.000000</td>\n",
       "      <td>3.000000</td>\n",
       "      <td>5.000000</td>\n",
       "      <td>0.720000</td>\n",
       "      <td>1.000000</td>\n",
       "      <td>45.000000</td>\n",
       "    </tr>\n",
       "    <tr>\n",
       "      <th>75%</th>\n",
       "      <td>40.763120</td>\n",
       "      <td>-73.936290</td>\n",
       "      <td>152.755053</td>\n",
       "      <td>5.000000</td>\n",
       "      <td>23.271991</td>\n",
       "      <td>1.238839</td>\n",
       "      <td>2.000000</td>\n",
       "      <td>227.000000</td>\n",
       "    </tr>\n",
       "    <tr>\n",
       "      <th>max</th>\n",
       "      <td>40.913060</td>\n",
       "      <td>-73.712990</td>\n",
       "      <td>334.000000</td>\n",
       "      <td>11.000000</td>\n",
       "      <td>58.000000</td>\n",
       "      <td>3.530000</td>\n",
       "      <td>7.144628</td>\n",
       "      <td>365.000000</td>\n",
       "    </tr>\n",
       "  </tbody>\n",
       "</table>\n",
       "</div>"
      ],
      "text/plain": [
       "           latitude     longitude         price  minimum_nights  \\\n",
       "count  48884.000000  48884.000000  48884.000000    48884.000000   \n",
       "mean      40.728953    -73.952176    121.990529        3.288876   \n",
       "std        0.054532      0.046159     66.491669        2.274036   \n",
       "min       40.499790    -74.244420     10.000000        1.000000   \n",
       "25%       40.690100    -73.983080     69.000000        1.000000   \n",
       "50%       40.723080    -73.955685    106.000000        3.000000   \n",
       "75%       40.763120    -73.936290    152.755053        5.000000   \n",
       "max       40.913060    -73.712990    334.000000       11.000000   \n",
       "\n",
       "       number_of_reviews  reviews_per_month  calculated_host_listings_count  \\\n",
       "count       48884.000000       48884.000000                    48884.000000   \n",
       "mean           11.335362           0.915085                        2.141968   \n",
       "std            13.286223           0.810454                        2.128049   \n",
       "min             0.000000           0.010000                        1.000000   \n",
       "25%             1.000000           0.280000                        1.000000   \n",
       "50%             5.000000           0.720000                        1.000000   \n",
       "75%            23.271991           1.238839                        2.000000   \n",
       "max            58.000000           3.530000                        7.144628   \n",
       "\n",
       "       availability_365  \n",
       "count      48884.000000  \n",
       "mean         112.779498  \n",
       "std          131.627271  \n",
       "min            0.000000  \n",
       "25%            0.000000  \n",
       "50%           45.000000  \n",
       "75%          227.000000  \n",
       "max          365.000000  "
      ]
     },
     "execution_count": 359,
     "metadata": {},
     "output_type": "execute_result"
    }
   ],
   "source": [
    "df.describe()"
   ]
  },
  {
   "cell_type": "code",
   "execution_count": 360,
   "metadata": {
    "colab": {
     "base_uri": "https://localhost:8080/"
    },
    "id": "EGLe4L_o7-LD",
    "outputId": "07629f7f-87cf-4d92-90a2-461ed25432d0"
   },
   "outputs": [
    {
     "data": {
      "text/plain": [
       "0                        clean quiet apt home by the park\n",
       "1                                   skylit midtown castle\n",
       "2                          the village of harlem new york\n",
       "3                         cozy entire floor of brownstone\n",
       "4         entire apt spacious studio loft by central park\n",
       "                               ...                       \n",
       "48890       charming one bedroom newly renovated rowhouse\n",
       "48891       affordable room in bushwick east williamsburg\n",
       "48892             sunny studio at historical neighborhood\n",
       "48893                 43rd st time square cozy single bed\n",
       "48894    trendy duplex in the very heart of hells kitchen\n",
       "Name: name, Length: 48884, dtype: object"
      ]
     },
     "execution_count": 360,
     "metadata": {},
     "output_type": "execute_result"
    }
   ],
   "source": [
    "def regex_clean(string):\n",
    "\n",
    "    string = str(string)\n",
    "\n",
    "    # set all chars to lowercase\n",
    "    string = string.lower() \n",
    "\n",
    "    # replace w/ with with\n",
    "    with_pattern = re.compile(r\"w/\") \n",
    "    string = re.sub(with_pattern, \"with\", string)\n",
    "\n",
    "    # strip special characters\n",
    "    string = string.replace('-', ' ')\n",
    "    string = string.replace(\"'\", \"\")\n",
    "    string = re.sub(r'[^\\w\\s]', ' ', string)\n",
    "\n",
    "    # replace extra spaces with single spaces\n",
    "    doublespace_pattern = re.compile(r\"\\s{2,}\") \n",
    "    string = re.sub(doublespace_pattern, ' ', string)\n",
    "\n",
    "    # strip extra spaces from beginning and end of string\n",
    "    string = string.strip() \n",
    "    \n",
    "    return string\n",
    "\n",
    "df[\"name\"] = df[\"name\"].apply(regex_clean)\n",
    "df[\"name\"]"
   ]
  },
  {
   "cell_type": "code",
   "execution_count": 361,
   "metadata": {
    "id": "kFUxdWRmWZSt"
   },
   "outputs": [],
   "source": [
    "df = df.drop([\"reviews_per_month\", \"calculated_host_listings_count\"], axis = 1)"
   ]
  },
  {
   "cell_type": "code",
   "execution_count": 362,
   "metadata": {
    "id": "cPbWbjJo7-LD"
   },
   "outputs": [],
   "source": [
    "# split df into training and test sets\n",
    "X_train, X_test, y_train, y_test = train_test_split(df.drop(\"price\", axis = 1), \n",
    "                                                    df[\"price\"], \n",
    "                                                    test_size = 0.3, \n",
    "                                                    random_state = 90) \n",
    "\n",
    "# split test set into development set and test set\n",
    "X_dev, X_test, y_dev, y_test = train_test_split(X_test, y_test, \n",
    "                                                test_size = 0.5, \n",
    "                                                random_state = 90) \n",
    "\n",
    "# get training index\n",
    "training_index = X_train.index \n",
    "# get development index\n",
    "dev_index = X_dev.index \n",
    "# get test index\n",
    "test_index = X_test.index \n",
    "\n",
    "# X_full = pd.concat([X_train, X_dev, X_test]) # reconstruct df\n",
    "# y_full = pd.concat([y_train, y_dev, y_test])"
   ]
  },
  {
   "cell_type": "markdown",
   "metadata": {
    "id": "y_ypWZp2sXx3"
   },
   "source": [
    "## Exploratory Data Analysis"
   ]
  },
  {
   "cell_type": "code",
   "execution_count": 363,
   "metadata": {
    "id": "KPl2BpCI-XPW"
   },
   "outputs": [],
   "source": [
    "# i = 1\n",
    "# plt.figure(figsize=(8,8))\n",
    "# for feature in df.loc[:, [\"latitude\", \"longitude\", 'minimum_nights', 'availability_365',\n",
    "#        'number_of_reviews', 'reviews_per_month', 'calculated_host_listings_count']]:\n",
    "#     plt.subplot(2, 4, i)\n",
    "#     plt.title(feature, fontsize=10)\n",
    "#     ax = sns.boxplot(data = df[feature])\n",
    "#     plt.tight_layout()\n",
    "#     i += 1\n",
    "# plt.show()"
   ]
  },
  {
   "cell_type": "code",
   "execution_count": 364,
   "metadata": {
    "id": "Um1cxEA7sbZI"
   },
   "outputs": [
    {
     "name": "stderr",
     "output_type": "stream",
     "text": [
      "/var/folders/dp/_pc3s4994bqbbsvrm8jrtt480000gn/T/ipykernel_1166/3426158519.py:1: FutureWarning: The default value of numeric_only in DataFrame.corr is deprecated. In a future version, it will default to False. Select only valid columns or specify the value of numeric_only to silence this warning.\n",
      "  corr = df.corr(method='pearson')\n"
     ]
    },
    {
     "data": {
      "image/png": "[encoded data removed]",
      "text/plain": [
       "<Figure size 770x550 with 2 Axes>"
      ]
     },
     "metadata": {},
     "output_type": "display_data"
    }
   ],
   "source": [
    "corr = df.corr(method='pearson')\n",
    "sns.heatmap(corr, annot=True)\n",
    "plt.title(label='Correlations Among Numerical Features')\n",
    "plt.show()"
   ]
  },
  {
   "cell_type": "code",
   "execution_count": 365,
   "metadata": {
    "id": "8a88N_v1uGNO"
   },
   "outputs": [],
   "source": [
    "# # Plot color coded scatterplot based on neighbourhood group\n",
    "# sns.relplot(data=df, y=\"latitude\", x=\"longitude\", hue=\"borough\", kind=\"scatter\",\n",
    "#             s=10)\n",
    "# plt.title('NYC Airbnb Locations by Borough')\n",
    "# plt.show()"
   ]
  },
  {
   "cell_type": "code",
   "execution_count": 366,
   "metadata": {},
   "outputs": [],
   "source": [
    "numerical_features = [\"latitude\", \"longitude\", \"minimum_nights\", \"number_of_reviews\", \"availability_365\"]\n",
    "categorical_features = [\"borough\", \"neighborhood\", \"room_type\"]\n",
    "features = [\"latitude\", \"longitude\", \"minimum_nights\", \"number_of_reviews\", \"availability_365\", \"borough\", \"neighborhood\", \"room_type\"]"
   ]
  },
  {
   "cell_type": "markdown",
   "metadata": {
    "id": "xAlQbEsBr9px"
   },
   "source": [
    "## Model Selection"
   ]
  },
  {
   "cell_type": "code",
   "execution_count": 367,
   "metadata": {
    "id": "hkxyP8Cn7-LE"
   },
   "outputs": [],
   "source": [
    "# initialize BoW model\n",
    "vectorizer = CountVectorizer(min_df=15, stop_words=\"english\") \n",
    "# initialize scaler for numerical data\n",
    "scaler = StandardScaler()\n",
    "# ohe for categorical data\n",
    "ohe = OneHotEncoder(sparse_output = False, handle_unknown = \"ignore\") \n",
    "\n",
    "column_transformer = make_column_transformer\\\n",
    "(\n",
    "    (vectorizer, \"name\"),\n",
    "    (scaler, numerical_features),\n",
    "    (ohe, categorical_features), \n",
    "    remainder = \"drop\"\n",
    ")\n",
    "    "
   ]
  },
  {
   "cell_type": "code",
   "execution_count": 368,
   "metadata": {
    "id": "s7CJ5mtq-FXe"
   },
   "outputs": [],
   "source": [
    "# Define the function to return the SMAPE value\n",
    "def smape(A, F):\n",
    "    return 100/len(A) * np.sum(2 * np.abs(F - A) / (np.abs(A) + np.abs(F)))"
   ]
  },
  {
   "cell_type": "markdown",
   "metadata": {
    "id": "_UL4RRitsNBk"
   },
   "source": [
    "### Baseline Model: Linear Regression"
   ]
  },
  {
   "cell_type": "code",
   "execution_count": 369,
   "metadata": {
    "id": "GgHgH9rSb48j"
   },
   "outputs": [],
   "source": [
    "# Linear Regression\n",
    "\n",
    "linear_model = LinearRegression()\n",
    "\n",
    "pipeline = make_pipeline(column_transformer, linear_model)\n",
    "pipeline.fit(X_train, y_train)\n",
    "\n",
    "y_train_pred = pipeline.predict(X_train)\n",
    "y_dev_pred = pipeline.predict(X_dev)"
   ]
  },
  {
   "cell_type": "code",
   "execution_count": 370,
   "metadata": {
    "colab": {
     "base_uri": "https://localhost:8080/"
    },
    "id": "S8VvzsCDWZSu",
    "outputId": "5798bccb-110f-4a70-f357-7b0ef0612835"
   },
   "outputs": [
    {
     "name": "stdout",
     "output_type": "stream",
     "text": [
      "1853.8438270690615\n",
      "1954.8101463008163\n"
     ]
    }
   ],
   "source": [
    "print(mean_squared_error(y_train, y_train_pred))\n",
    "print(mean_squared_error(y_dev, y_dev_pred))"
   ]
  },
  {
   "cell_type": "code",
   "execution_count": 371,
   "metadata": {
    "colab": {
     "base_uri": "https://localhost:8080/"
    },
    "id": "_Zlofuy1-UcA",
    "outputId": "fe4c69d8-ca58-4311-deb7-67c0c4a48031"
   },
   "outputs": [
    {
     "name": "stdout",
     "output_type": "stream",
     "text": [
      "26.92905908308893\n",
      "27.55124843242326\n"
     ]
    }
   ],
   "source": [
    "print(smape(y_train, y_train_pred))\n",
    "print(smape(y_dev, y_dev_pred))"
   ]
  },
  {
   "cell_type": "code",
   "execution_count": 372,
   "metadata": {},
   "outputs": [
    {
     "name": "stdout",
     "output_type": "stream",
     "text": [
      "0.5801356564338945\n",
      "0.5519806319654699\n"
     ]
    }
   ],
   "source": [
    "print(r2_score(y_train, y_train_pred))\n",
    "print(r2_score(y_dev, y_dev_pred))"
   ]
  },
  {
   "cell_type": "code",
   "execution_count": 256,
   "metadata": {
    "id": "daxq7kJ6WZSv"
   },
   "outputs": [],
   "source": [
    "column_transformer = make_column_transformer\\\n",
    "(\n",
    "    (vectorizer, \"name\"),\n",
    "    (scaler, numerical_features),\n",
    "    (ohe, categorical_features), \n",
    "    remainder = \"drop\"\n",
    ")\n",
    "\n",
    "linear_model = LinearRegression()\n",
    "\n",
    "pipeline = make_pipeline(column_transformer, linear_model)\n",
    "pipeline.fit(X_train, y_train)\n",
    "\n",
    "y_train_pred = pipeline.predict(X_train)\n",
    "y_dev_pred = pipeline.predict(X_dev)"
   ]
  },
  {
   "cell_type": "code",
   "execution_count": 257,
   "metadata": {
    "colab": {
     "base_uri": "https://localhost:8080/"
    },
    "id": "kFsoLTV9WZSv",
    "outputId": "5cdbb865-4dd1-46b8-9756-ba7ea5ad43a2"
   },
   "outputs": [
    {
     "name": "stdout",
     "output_type": "stream",
     "text": [
      "1853.8438270690615\n",
      "1954.8101463008163\n"
     ]
    }
   ],
   "source": [
    "print(mean_squared_error(y_train, y_train_pred))\n",
    "print(mean_squared_error(y_dev, y_dev_pred))"
   ]
  },
  {
   "cell_type": "code",
   "execution_count": 258,
   "metadata": {
    "colab": {
     "base_uri": "https://localhost:8080/"
    },
    "id": "MslPUJD_-1db",
    "outputId": "d96ad456-5aae-4edc-825a-e7e7ebd4d7bc"
   },
   "outputs": [
    {
     "name": "stdout",
     "output_type": "stream",
     "text": [
      "26.92905908308893\n",
      "27.55124843242326\n"
     ]
    }
   ],
   "source": [
    "print(smape(y_train, y_train_pred))\n",
    "print(smape(y_dev, y_dev_pred))"
   ]
  },
  {
   "cell_type": "code",
   "execution_count": 259,
   "metadata": {},
   "outputs": [
    {
     "name": "stdout",
     "output_type": "stream",
     "text": [
      "0.5801356564338945\n",
      "0.5519806319654699\n"
     ]
    }
   ],
   "source": [
    "print(r2_score(y_train, y_train_pred))\n",
    "print(r2_score(y_dev, y_dev_pred))"
   ]
  },
  {
   "cell_type": "markdown",
   "metadata": {
    "id": "AyN3bycqWZSv"
   },
   "source": [
    "Not great performance, our has a high bias. Seems to be a classic case of underfitting. We will first try to manually change our feature space, and see if this corrects any errors in the linear regression. Our pipeline includes a vectorizer for the title of the listing, our first hypothesis will be that the name of the listing is irrelevant to final price."
   ]
  },
  {
   "cell_type": "code",
   "execution_count": 260,
   "metadata": {
    "id": "hfn_4P-oWZSv"
   },
   "outputs": [],
   "source": [
    "column_transformer = make_column_transformer\\\n",
    "(\n",
    "    (scaler, [\"latitude\", \"longitude\", \"minimum_nights\", \"number_of_reviews\"]),\n",
    "    (ohe, [\"borough\", \"neighborhood\", \"room_type\"]), \n",
    "    remainder = \"drop\"\n",
    ")\n",
    "\n",
    "linear_model = LinearRegression()\n",
    "\n",
    "pipeline = make_pipeline(column_transformer, linear_model)\n",
    "pipeline.fit(X_train, y_train)\n",
    "\n",
    "y_train_pred = pipeline.predict(X_train)\n",
    "y_dev_pred = pipeline.predict(X_dev)"
   ]
  },
  {
   "cell_type": "code",
   "execution_count": 261,
   "metadata": {
    "colab": {
     "base_uri": "https://localhost:8080/"
    },
    "id": "5H2ngcRmWZSw",
    "outputId": "f99d5c87-66a8-40b2-c825-808d8cd4d7fb"
   },
   "outputs": [
    {
     "name": "stdout",
     "output_type": "stream",
     "text": [
      "2160.366797756706\n",
      "3.5727635391003144e+22\n"
     ]
    }
   ],
   "source": [
    "print(mean_squared_error(y_train, y_train_pred))\n",
    "print(mean_squared_error(y_dev, y_dev_pred))"
   ]
  },
  {
   "cell_type": "code",
   "execution_count": 262,
   "metadata": {
    "colab": {
     "base_uri": "https://localhost:8080/"
    },
    "id": "fWIIvNmc-5BG",
    "outputId": "700f67a3-3976-435a-fee2-6da33ac87c0c"
   },
   "outputs": [
    {
     "name": "stdout",
     "output_type": "stream",
     "text": [
      "28.521514450334926\n",
      "28.707661975189932\n"
     ]
    }
   ],
   "source": [
    "print(smape(y_train, y_train_pred))\n",
    "print(smape(y_dev, y_dev_pred))"
   ]
  },
  {
   "cell_type": "code",
   "execution_count": 263,
   "metadata": {},
   "outputs": [
    {
     "name": "stdout",
     "output_type": "stream",
     "text": [
      "0.5107133760904781\n",
      "-8.18835151819503e+18\n"
     ]
    }
   ],
   "source": [
    "print(r2_score(y_train, y_train_pred))\n",
    "print(r2_score(y_dev, y_dev_pred))"
   ]
  },
  {
   "cell_type": "markdown",
   "metadata": {
    "id": "DQCw2n9RWZSw"
   },
   "source": [
    "Our hypothesis was completely wrong, as removing our vectorizer from the pipeline increased our error by magnitudes. Our next hypothesis is that the neighborhood feature is \"confusing\" the model and not allowing it to be as expressive, since there's so many different neighborhoods."
   ]
  },
  {
   "cell_type": "code",
   "execution_count": 264,
   "metadata": {
    "colab": {
     "base_uri": "https://localhost:8080/"
    },
    "id": "2IxIOQsTWZSw",
    "outputId": "955200fb-b5f0-4aed-d41c-115cde02c0f1"
   },
   "outputs": [
    {
     "data": {
      "text/plain": [
       "Williamsburg          2726\n",
       "Bedford-Stuyvesant    2632\n",
       "Harlem                1891\n",
       "Bushwick              1732\n",
       "Hell's Kitchen        1387\n",
       "                      ... \n",
       "Howland Hook             1\n",
       "Huguenot                 1\n",
       "Breezy Point             1\n",
       "New Dorp                 1\n",
       "Neponsit                 1\n",
       "Name: neighborhood, Length: 220, dtype: int64"
      ]
     },
     "execution_count": 264,
     "metadata": {},
     "output_type": "execute_result"
    }
   ],
   "source": [
    "X_train[\"neighborhood\"].value_counts()"
   ]
  },
  {
   "cell_type": "code",
   "execution_count": 265,
   "metadata": {
    "id": "7MvBal6ZWZSw"
   },
   "outputs": [],
   "source": [
    "column_transformer = make_column_transformer\\\n",
    "(\n",
    "    (vectorizer, \"name\"),\n",
    "    (scaler, [\"latitude\", \"longitude\", \"minimum_nights\", \"number_of_reviews\"]),\n",
    "    (ohe, [\"borough\", \"room_type\"]), \n",
    "    remainder = \"drop\"\n",
    ")\n",
    "\n",
    "linear_model = LinearRegression()\n",
    "\n",
    "pipeline = make_pipeline(column_transformer, linear_model)\n",
    "pipeline.fit(X_train, y_train)\n",
    "\n",
    "y_train_pred = pipeline.predict(X_train)\n",
    "y_dev_pred = pipeline.predict(X_dev)"
   ]
  },
  {
   "cell_type": "code",
   "execution_count": 266,
   "metadata": {
    "colab": {
     "base_uri": "https://localhost:8080/"
    },
    "id": "Q2HaJSJmWZSw",
    "outputId": "7f541605-3137-4ffd-9e90-27cc734bd870"
   },
   "outputs": [
    {
     "name": "stdout",
     "output_type": "stream",
     "text": [
      "1975.5011501771496\n",
      "2051.171742707531\n"
     ]
    }
   ],
   "source": [
    "print(mean_squared_error(y_train, y_train_pred))\n",
    "print(mean_squared_error(y_dev, y_dev_pred))"
   ]
  },
  {
   "cell_type": "code",
   "execution_count": 267,
   "metadata": {
    "colab": {
     "base_uri": "https://localhost:8080/"
    },
    "id": "mHDCSxBC--MA",
    "outputId": "e57376c4-72d4-4359-a3f8-a72b7e027fae"
   },
   "outputs": [
    {
     "name": "stdout",
     "output_type": "stream",
     "text": [
      "27.986238053229048\n",
      "28.587898938322382\n"
     ]
    }
   ],
   "source": [
    "print(smape(y_train, y_train_pred))\n",
    "print(smape(y_dev, y_dev_pred))"
   ]
  },
  {
   "cell_type": "code",
   "execution_count": 268,
   "metadata": {},
   "outputs": [
    {
     "name": "stdout",
     "output_type": "stream",
     "text": [
      "0.5525823256943014\n",
      "0.5298956936369928\n"
     ]
    }
   ],
   "source": [
    "print(r2_score(y_train, y_train_pred))\n",
    "print(r2_score(y_dev, y_dev_pred))"
   ]
  },
  {
   "cell_type": "markdown",
   "metadata": {
    "id": "ZwdUrGKPWZSx"
   },
   "source": [
    "Removing the neighborhood feature increased the error, but not by much. Clearly the neighborhood feature is somewhat useful, but we still aren't entirely convinced that the neighborhood feature is not causing the model trouble, so we will try using the OneHotEncoders infrequent categories functionality to bundle all categories that appear less than x amount of times. It appears that the median number of appearances is 23, so we will set the infrequent category threshold to 10."
   ]
  },
  {
   "cell_type": "code",
   "execution_count": 269,
   "metadata": {
    "id": "f8GxgwLnWZSx"
   },
   "outputs": [],
   "source": [
    "ohe_2 = OneHotEncoder(handle_unknown = \"infrequent_if_exist\", min_frequency = 10) \n",
    "\n",
    "column_transformer = make_column_transformer\\\n",
    "(\n",
    "    (vectorizer, \"name\"),\n",
    "    (scaler, [\"latitude\", \"longitude\", \"minimum_nights\", \"number_of_reviews\"]),\n",
    "    (ohe_2, [\"borough\", \"neighborhood\", \"room_type\"]), \n",
    "    remainder = \"drop\"\n",
    ")\n",
    "\n",
    "linear_model = LinearRegression()\n",
    "\n",
    "pipeline = make_pipeline(column_transformer, linear_model)\n",
    "pipeline.fit(X_train, y_train)\n",
    "\n",
    "y_train_pred = pipeline.predict(X_train)\n",
    "y_dev_pred = pipeline.predict(X_dev)"
   ]
  },
  {
   "cell_type": "code",
   "execution_count": 270,
   "metadata": {
    "colab": {
     "base_uri": "https://localhost:8080/"
    },
    "id": "xf6pAh7qWZSx",
    "outputId": "b7fbcdd3-ad25-4af9-f236-c9591bca022a"
   },
   "outputs": [
    {
     "name": "stdout",
     "output_type": "stream",
     "text": [
      "1891.3797087189992\n",
      "1983.633552438745\n"
     ]
    }
   ],
   "source": [
    "print(mean_squared_error(y_train, y_train_pred))\n",
    "print(mean_squared_error(y_dev, y_dev_pred))"
   ]
  },
  {
   "cell_type": "code",
   "execution_count": 271,
   "metadata": {
    "colab": {
     "base_uri": "https://localhost:8080/"
    },
    "id": "lvky1kzR_CXK",
    "outputId": "f81deb06-56ea-4085-e8e8-ff1dfe580785"
   },
   "outputs": [
    {
     "name": "stdout",
     "output_type": "stream",
     "text": [
      "27.15804804701198\n",
      "27.68603695699789\n"
     ]
    }
   ],
   "source": [
    "print(smape(y_train, y_train_pred))\n",
    "print(smape(y_dev, y_dev_pred))"
   ]
  },
  {
   "cell_type": "code",
   "execution_count": 272,
   "metadata": {},
   "outputs": [
    {
     "name": "stdout",
     "output_type": "stream",
     "text": [
      "0.571634412651109\n",
      "0.5453746481429723\n"
     ]
    }
   ],
   "source": [
    "print(r2_score(y_train, y_train_pred))\n",
    "print(r2_score(y_dev, y_dev_pred))"
   ]
  },
  {
   "cell_type": "markdown",
   "metadata": {
    "id": "ut5rdLtRWZSx"
   },
   "source": [
    "We have successfully decreased the error by treating neighborhoods which appear less than 10 times as their own \"infrequent\" category, we will try increasing and lowering the frequency to see if it makes a difference."
   ]
  },
  {
   "cell_type": "code",
   "execution_count": 273,
   "metadata": {
    "id": "ydk-O0sjWZSx"
   },
   "outputs": [],
   "source": [
    "ohe_2 = OneHotEncoder(handle_unknown = \"infrequent_if_exist\", min_frequency = 5) \n",
    "\n",
    "column_transformer = make_column_transformer\\\n",
    "(\n",
    "    (vectorizer, \"name\"),\n",
    "    (scaler, [\"latitude\", \"longitude\", \"minimum_nights\", \"number_of_reviews\"]),\n",
    "    (ohe_2, [\"borough\", \"neighborhood\", \"room_type\"]), \n",
    "    remainder = \"drop\"\n",
    ")\n",
    "\n",
    "linear_model = LinearRegression()\n",
    "\n",
    "pipeline = make_pipeline(column_transformer, linear_model)\n",
    "pipeline.fit(X_train, y_train)\n",
    "\n",
    "y_train_pred = pipeline.predict(X_train)\n",
    "y_dev_pred = pipeline.predict(X_dev)"
   ]
  },
  {
   "cell_type": "code",
   "execution_count": 274,
   "metadata": {
    "colab": {
     "base_uri": "https://localhost:8080/"
    },
    "id": "kKq8hk-aWZSy",
    "outputId": "93339780-6134-4718-8ee0-011ac74505a6"
   },
   "outputs": [
    {
     "name": "stdout",
     "output_type": "stream",
     "text": [
      "1886.0158156054295\n",
      "1983.9617928583536\n"
     ]
    }
   ],
   "source": [
    "print(mean_squared_error(y_train, y_train_pred))\n",
    "print(mean_squared_error(y_dev, y_dev_pred))"
   ]
  },
  {
   "cell_type": "code",
   "execution_count": 275,
   "metadata": {
    "colab": {
     "base_uri": "https://localhost:8080/"
    },
    "id": "-o_4u16J_Egj",
    "outputId": "a2d1fb51-3972-48e1-ae57-ccc511ac9ed1"
   },
   "outputs": [
    {
     "name": "stdout",
     "output_type": "stream",
     "text": [
      "27.14413351885327\n",
      "27.707342834388545\n"
     ]
    }
   ],
   "source": [
    "print(smape(y_train, y_train_pred))\n",
    "print(smape(y_dev, y_dev_pred))"
   ]
  },
  {
   "cell_type": "code",
   "execution_count": 276,
   "metadata": {},
   "outputs": [
    {
     "name": "stdout",
     "output_type": "stream",
     "text": [
      "0.5728492439266477\n",
      "0.5452994193205546\n"
     ]
    }
   ],
   "source": [
    "print(r2_score(y_train, y_train_pred))\n",
    "print(r2_score(y_dev, y_dev_pred))"
   ]
  },
  {
   "cell_type": "markdown",
   "metadata": {
    "id": "QmqaZNHHWZSy"
   },
   "source": [
    "Lowering it to 5 made a slight difference, but it's probably safe to say that it is not the neighborhoods tripping up the model. Perhaps it has something to do with the scaling. Since latitude and longitude data is already \"naturally\" scaled, let's try not scaling them."
   ]
  },
  {
   "cell_type": "code",
   "execution_count": 277,
   "metadata": {
    "id": "620xRbUfWZSy"
   },
   "outputs": [],
   "source": [
    "# column_transformer = make_column_transformer\\\n",
    "# (\n",
    "#     (vectorizer, \"name\"),\n",
    "#     (scaler, [\"minimum_nights\", \"number_of_reviews\"]),\n",
    "#     (ohe_2, [\"borough\", \"room_type\"]),\n",
    "#     remainder = \"passthrough\"\n",
    "# )\n",
    "\n",
    "# linear_model = LinearRegression()\n",
    "\n",
    "# pipeline = make_pipeline(column_transformer, linear_model)\n",
    "# pipeline.fit(X_train, y_train)\n",
    "\n",
    "# y_train_pred = pipeline.predict(X_train)\n",
    "# y_dev_pred = pipeline.predict(X_dev)"
   ]
  },
  {
   "cell_type": "code",
   "execution_count": 278,
   "metadata": {
    "colab": {
     "base_uri": "https://localhost:8080/"
    },
    "id": "RUCr-Y1GWZSy",
    "outputId": "d0ae1588-8ea2-4178-8bba-5df6f8328454"
   },
   "outputs": [
    {
     "name": "stdout",
     "output_type": "stream",
     "text": [
      "1886.0158156054295\n",
      "1983.9617928583536\n"
     ]
    }
   ],
   "source": [
    "print(mean_squared_error(y_train, y_train_pred))\n",
    "print(mean_squared_error(y_dev, y_dev_pred))"
   ]
  },
  {
   "cell_type": "code",
   "execution_count": 279,
   "metadata": {
    "colab": {
     "base_uri": "https://localhost:8080/"
    },
    "id": "43koOWJi_HSm",
    "outputId": "1881aea7-1dd6-41ad-c9a1-8c638d3853f4"
   },
   "outputs": [
    {
     "name": "stdout",
     "output_type": "stream",
     "text": [
      "27.14413351885327\n",
      "27.707342834388545\n"
     ]
    }
   ],
   "source": [
    "print(smape(y_train, y_train_pred))\n",
    "print(smape(y_dev, y_dev_pred))"
   ]
  },
  {
   "cell_type": "code",
   "execution_count": 280,
   "metadata": {},
   "outputs": [
    {
     "name": "stdout",
     "output_type": "stream",
     "text": [
      "0.5728492439266477\n",
      "0.5452994193205546\n"
     ]
    }
   ],
   "source": [
    "print(r2_score(y_train, y_train_pred))\n",
    "print(r2_score(y_dev, y_dev_pred))"
   ]
  },
  {
   "cell_type": "code",
   "execution_count": 281,
   "metadata": {},
   "outputs": [
    {
     "name": "stdout",
     "output_type": "stream",
     "text": [
      "1886.0158156054295\n",
      "1983.9617928583536\n",
      "27.14413351885327\n",
      "27.707342834388545\n",
      "0.5728492439266477\n",
      "0.5452994193205546\n"
     ]
    }
   ],
   "source": [
    "print(mean_squared_error(y_train, y_train_pred))\n",
    "print(mean_squared_error(y_dev, y_dev_pred))\n",
    "\n",
    "print(smape(y_train, y_train_pred))\n",
    "print(smape(y_dev, y_dev_pred))\n",
    "\n",
    "print(r2_score(y_train, y_train_pred))\n",
    "print(r2_score(y_dev, y_dev_pred))"
   ]
  },
  {
   "cell_type": "code",
   "execution_count": 282,
   "metadata": {},
   "outputs": [],
   "source": [
    "def create_list_based_on(current_list, base_list):\n",
    "    return list(set(current_list).intersection(base_list))"
   ]
  },
  {
   "cell_type": "code",
   "execution_count": 322,
   "metadata": {
    "scrolled": true
   },
   "outputs": [
    {
     "name": "stdout",
     "output_type": "stream",
     "text": [
      "1\n",
      "2\n",
      "3\n",
      "4\n",
      "5\n",
      "6\n",
      "7\n",
      "8\n",
      "9\n"
     ]
    },
    {
     "data": {
      "text/plain": [
       "{'1': [('room_type',),\n",
       "  33.10104600649273,\n",
       "  33.54169795110232,\n",
       "  0.3840855628141663,\n",
       "  0.40035622297400897],\n",
       " '2': [('room_type', 'name'),\n",
       "  28.937103842799253,\n",
       "  30.020731958362326,\n",
       "  0.5219185456301785,\n",
       "  0.5151089960296729],\n",
       " '3': [('neighborhood', 'room_type', 'name'),\n",
       "  27.35480551619482,\n",
       "  27.976239705422245,\n",
       "  0.5633773874133192,\n",
       "  0.5627471743537374],\n",
       " '4': [('availability_365', 'neighborhood', 'room_type', 'name'),\n",
       "  27.179090957106137,\n",
       "  27.84368457676251,\n",
       "  0.568094324843603,\n",
       "  0.569187659956907],\n",
       " '5': [('minimum_nights',\n",
       "   'availability_365',\n",
       "   'neighborhood',\n",
       "   'room_type',\n",
       "   'name'),\n",
       "  26.95254671531533,\n",
       "  27.551060732543885,\n",
       "  0.5744068216331213,\n",
       "  0.5756514429569023],\n",
       " '6': [('minimum_nights',\n",
       "   'number_of_reviews',\n",
       "   'availability_365',\n",
       "   'neighborhood',\n",
       "   'room_type',\n",
       "   'name'),\n",
       "  26.949317979216218,\n",
       "  27.45054767428118,\n",
       "  0.5753206276226096,\n",
       "  0.5780163022842792],\n",
       " '7': [('longitude',\n",
       "   'minimum_nights',\n",
       "   'number_of_reviews',\n",
       "   'availability_365',\n",
       "   'neighborhood',\n",
       "   'room_type',\n",
       "   'name'),\n",
       "  26.92058468246834,\n",
       "  27.42677508800438,\n",
       "  0.5758417066330132,\n",
       "  0.5789669873841611],\n",
       " '8': [('longitude',\n",
       "   'minimum_nights',\n",
       "   'number_of_reviews',\n",
       "   'availability_365',\n",
       "   'borough',\n",
       "   'neighborhood',\n",
       "   'room_type',\n",
       "   'name'),\n",
       "  26.890811943640088,\n",
       "  27.36278748777135,\n",
       "  0.577185175691117,\n",
       "  0.5795121355149723],\n",
       " '9': [('latitude',\n",
       "   'longitude',\n",
       "   'minimum_nights',\n",
       "   'number_of_reviews',\n",
       "   'availability_365',\n",
       "   'borough',\n",
       "   'neighborhood',\n",
       "   'room_type',\n",
       "   'name'),\n",
       "  26.88233399495614,\n",
       "  27.3757581664174,\n",
       "  0.5772717526861149,\n",
       "  0.5791149662661651]}"
      ]
     },
     "execution_count": 322,
     "metadata": {},
     "output_type": "execute_result"
    }
   ],
   "source": [
    "from itertools import combinations\n",
    "\n",
    "best_models = {}\n",
    "features.append(\"name\")\n",
    "\n",
    "for n in range(1, len(features) + 1):\n",
    "    feature_comb = list(combinations(features, n))\n",
    "    best_models[str(n)] = [\"\", 100, 100, 0, 0]\n",
    "    print(n)\n",
    "    for comb in feature_comb:\n",
    "        column_transformer = None\n",
    "        scaled_features = create_list_based_on(comb, numerical_features)\n",
    "        ohe_features = create_list_based_on(comb, categorical_features)\n",
    "        if len(scaled_features) == 0 and len(ohe_features) == 0:\n",
    "            continue\n",
    "        if len(scaled_features) == 0:\n",
    "            if \"name\" in comb:\n",
    "                column_transformer = make_column_transformer\\\n",
    "                (\n",
    "                    (vectorizer, \"name\"),\n",
    "                    (ohe_2, ohe_features),\n",
    "                    remainder = \"drop\"\n",
    "                )\n",
    "            else:\n",
    "                column_transformer = make_column_transformer\\\n",
    "                (\n",
    "                    (ohe_2, ohe_features),\n",
    "                    remainder = \"drop\"\n",
    "                )\n",
    "        elif len(ohe_features) == 0:\n",
    "            if \"name\" in comb:\n",
    "                column_transformer = make_column_transformer\\\n",
    "                (\n",
    "                    (vectorizer, \"name\"),\n",
    "                    (scaler, scaled_features),\n",
    "                    remainder = \"drop\"\n",
    "                )\n",
    "            else:\n",
    "                column_transformer = make_column_transformer\\\n",
    "                (\n",
    "                    (scaler, scaled_features),\n",
    "                    remainder = \"drop\"\n",
    "                )\n",
    "        else:\n",
    "            if \"name\" in comb:\n",
    "                column_transformer = make_column_transformer\\\n",
    "                (\n",
    "                    (vectorizer, \"name\"),\n",
    "                    (scaler, scaled_features),\n",
    "                    (ohe_2, ohe_features),\n",
    "                    remainder = \"drop\"\n",
    "                )\n",
    "            else:\n",
    "                column_transformer = make_column_transformer\\\n",
    "                (\n",
    "                    (scaler, scaled_features),\n",
    "                    (ohe_2, ohe_features),\n",
    "                    remainder = \"drop\"\n",
    "                )\n",
    "        linear_model = LinearRegression()\n",
    "\n",
    "        pipeline = make_pipeline(column_transformer, linear_model)\n",
    "        pipeline.fit(X_train, y_train)\n",
    "\n",
    "        y_train_pred = pipeline.predict(X_train)\n",
    "        y_dev_pred = pipeline.predict(X_dev)\n",
    "        \n",
    "        rsq_train = r2_score(y_train, y_train_pred)\n",
    "        rsq_dev = r2_score(y_dev, y_dev_pred)\n",
    "        smape_train = smape(y_train, y_train_pred)\n",
    "        smape_dev = smape(y_dev, y_dev_pred)\n",
    "        \n",
    "        if best_models[str(n)][4] < rsq_dev:\n",
    "            best_models[str(n)][0] = comb\n",
    "            best_models[str(n)][1] = smape_train\n",
    "            best_models[str(n)][2] = smape_dev \n",
    "            best_models[str(n)][3] = rsq_train \n",
    "            best_models[str(n)][4] = rsq_dev"
   ]
  },
  {
   "cell_type": "code",
   "execution_count": 333,
   "metadata": {},
   "outputs": [
    {
     "name": "stdout",
     "output_type": "stream",
     "text": [
      "\n",
      " ('room_type',)\n",
      "0.331\n",
      "0.3354\n",
      "0.3841\n",
      "0.4004\n",
      "\n",
      " ('room_type', 'name')\n",
      "0.2894\n",
      "0.3002\n",
      "0.5219\n",
      "0.5151\n",
      "\n",
      " ('neighborhood', 'room_type', 'name')\n",
      "0.2735\n",
      "0.2798\n",
      "0.5634\n",
      "0.5627\n",
      "\n",
      " ('availability_365', 'neighborhood', 'room_type', 'name')\n",
      "0.2718\n",
      "0.2784\n",
      "0.5681\n",
      "0.5692\n",
      "\n",
      " ('minimum_nights', 'availability_365', 'neighborhood', 'room_type', 'name')\n",
      "0.2695\n",
      "0.2755\n",
      "0.5744\n",
      "0.5757\n",
      "\n",
      " ('minimum_nights', 'number_of_reviews', 'availability_365', 'neighborhood', 'room_type', 'name')\n",
      "0.2695\n",
      "0.2745\n",
      "0.5753\n",
      "0.578\n",
      "\n",
      " ('longitude', 'minimum_nights', 'number_of_reviews', 'availability_365', 'neighborhood', 'room_type', 'name')\n",
      "0.2692\n",
      "0.2743\n",
      "0.5758\n",
      "0.579\n",
      "\n",
      " ('longitude', 'minimum_nights', 'number_of_reviews', 'availability_365', 'borough', 'neighborhood', 'room_type', 'name')\n",
      "0.2689\n",
      "0.2736\n",
      "0.5772\n",
      "0.5795\n",
      "\n",
      " ('latitude', 'longitude', 'minimum_nights', 'number_of_reviews', 'availability_365', 'borough', 'neighborhood', 'room_type', 'name')\n",
      "0.2688\n",
      "0.2738\n",
      "0.5773\n",
      "0.5791\n"
     ]
    }
   ],
   "source": [
    "for key in best_models:\n",
    "    for i in range(len(best_models[key])):\n",
    "        if i == 0:\n",
    "            print(\"\\n\", best_models[key][i])\n",
    "        elif i == 1 or i == 2:\n",
    "            print(round(best_models[key][i]/100, 4))\n",
    "        else:\n",
    "            print(round(best_models[key][i], 4))"
   ]
  },
  {
   "cell_type": "code",
   "execution_count": 320,
   "metadata": {},
   "outputs": [],
   "source": [
    "column_transformer = make_column_transformer\\\n",
    "(\n",
    "    (vectorizer, \"name\"),\n",
    "    (scaler, ['minimum_nights','number_of_reviews','availability_365']),\n",
    "    (ohe_2, ['neighborhood','room_type']),\n",
    "    remainder = \"drop\"\n",
    ")\n",
    "\n",
    "pipeline = make_pipeline(column_transformer, linear_model)\n",
    "pipeline.fit(X_train, y_train)\n",
    "\n",
    "y_train_pred = pipeline.predict(X_train)\n",
    "y_dev_pred = pipeline.predict(X_dev)"
   ]
  },
  {
   "cell_type": "code",
   "execution_count": 321,
   "metadata": {},
   "outputs": [
    {
     "name": "stdout",
     "output_type": "stream",
     "text": [
      "0.5753206271280983\n",
      "0.5780159124266566\n"
     ]
    }
   ],
   "source": [
    "print(r2_score(y_train, y_train_pred))\n",
    "print(r2_score(y_dev, y_dev_pred))"
   ]
  },
  {
   "cell_type": "markdown",
   "metadata": {},
   "source": [
    "difference between successive iterations is less than 1e-3, 0.001, our EM algorithm terminates. We chose the threshold of 0.0001 because this difference is small enough to conclude that the marginal log likelihood has converged."
   ]
  },
  {
   "cell_type": "markdown",
   "metadata": {
    "id": "tMG9hIH1WZSz"
   },
   "source": [
    "Not scaling latitude and longitude made no difference, so we can keep them unscaled to make our model marginally more efficient."
   ]
  },
  {
   "cell_type": "markdown",
   "metadata": {
    "id": "7536q0nTWZSz"
   },
   "source": [
    "We believe we've exhausted the extent to which we can improve this model through preprocessing, so we've decided we must switch to another regression model. We need a more expressive regression model than linear regression. We will try an kernel ridge regression as it is far more expressive than simple linear regression."
   ]
  },
  {
   "cell_type": "code",
   "execution_count": 301,
   "metadata": {
    "id": "GfAJfTXpWZSz"
   },
   "outputs": [],
   "source": [
    "from sklearn.kernel_ridge import KernelRidge\n",
    "\n",
    "column_transformer = make_column_transformer\\\n",
    "(\n",
    "    (vectorizer, \"name\"),\n",
    "    (scaler, numerical_features),\n",
    "    (ohe_2, categorical_features),\n",
    "    remainder = \"drop\"\n",
    ")\n",
    "\n",
    "linear_model = KernelRidge(degree = 4)\n",
    "\n",
    "pipeline = make_pipeline(column_transformer, linear_model)\n",
    "pipeline.fit(X_train, y_train)\n",
    "\n",
    "y_train_pred = pipeline.predict(X_train)\n",
    "y_dev_pred = pipeline.predict(X_dev)"
   ]
  },
  {
   "cell_type": "code",
   "execution_count": 302,
   "metadata": {
    "id": "EteA8sqtWZSz"
   },
   "outputs": [
    {
     "name": "stdout",
     "output_type": "stream",
     "text": [
      "1867.9084881570282\n",
      "1889.8475056735322\n"
     ]
    }
   ],
   "source": [
    "print(mean_squared_error(y_train, y_train_pred))\n",
    "print(mean_squared_error(y_dev, y_dev_pred))"
   ]
  },
  {
   "cell_type": "code",
   "execution_count": 303,
   "metadata": {
    "id": "69i6nKzk_JlD"
   },
   "outputs": [
    {
     "name": "stdout",
     "output_type": "stream",
     "text": [
      "26.862781675154622\n",
      "27.305098673022837\n"
     ]
    }
   ],
   "source": [
    "print(smape(y_train, y_train_pred))\n",
    "print(smape(y_dev, y_dev_pred))"
   ]
  },
  {
   "cell_type": "code",
   "execution_count": 304,
   "metadata": {},
   "outputs": [
    {
     "name": "stdout",
     "output_type": "stream",
     "text": [
      "0.577022936340825\n",
      "0.5800905563444566\n"
     ]
    }
   ],
   "source": [
    "print(r2_score(y_train, y_train_pred))\n",
    "print(r2_score(y_dev, y_dev_pred))"
   ]
  },
  {
   "cell_type": "markdown",
   "metadata": {
    "id": "6vuQfIikWZSz"
   },
   "source": [
    "Kernel ridge regression produced little improvement at the expense of low efficiency, our last resort is to systematically strip the model of features, in hopes that we will overfit rather than underfit."
   ]
  },
  {
   "cell_type": "code",
   "execution_count": 289,
   "metadata": {
    "id": "jF9NuS_UWZSz"
   },
   "outputs": [],
   "source": [
    "# split df into training and test sets\n",
    "X_train, X_test, y_train, y_test = train_test_split(df.drop(\"price\", axis = 1), \n",
    "                                                    df[\"price\"], \n",
    "                                                    test_size = 0.10, \n",
    "                                                    random_state = 90) \n",
    "\n",
    "# split test set into development set and test set\n",
    "X_dev, X_test, y_dev, y_test = train_test_split(X_test, y_test, \n",
    "                                                test_size = 0.5, \n",
    "                                                random_state = 90) "
   ]
  },
  {
   "cell_type": "code",
   "execution_count": 290,
   "metadata": {
    "id": "mGlRYIwJWZS0"
   },
   "outputs": [],
   "source": [
    "column_transformer = make_column_transformer\\\n",
    "(\n",
    "    (vectorizer, \"name\"),\n",
    "    (scaler, [\"minimum_nights\", \"number_of_reviews\"]),\n",
    "    (ohe_2, [\"borough\", \"neighborhood\", \"room_type\"]),\n",
    "    remainder = \"passthrough\"\n",
    ")\n",
    "\n",
    "linear_model = LinearRegression()\n",
    "\n",
    "pipeline = make_pipeline(column_transformer, linear_model)\n",
    "pipeline.fit(X_train, y_train)\n",
    "\n",
    "y_train_pred = pipeline.predict(X_train)\n",
    "y_dev_pred = pipeline.predict(X_dev)"
   ]
  },
  {
   "cell_type": "code",
   "execution_count": 291,
   "metadata": {
    "id": "PM_mL6u5WZS0"
   },
   "outputs": [
    {
     "name": "stdout",
     "output_type": "stream",
     "text": [
      "1868.3426058603143\n",
      "1896.698132815331\n"
     ]
    }
   ],
   "source": [
    "print(mean_squared_error(y_train, y_train_pred))\n",
    "print(mean_squared_error(y_dev, y_dev_pred))"
   ]
  },
  {
   "cell_type": "code",
   "execution_count": 292,
   "metadata": {},
   "outputs": [
    {
     "name": "stdout",
     "output_type": "stream",
     "text": [
      "0.5769246329000608\n",
      "0.578568400179386\n"
     ]
    }
   ],
   "source": [
    "print(r2_score(y_train, y_train_pred))\n",
    "print(r2_score(y_dev, y_dev_pred))"
   ]
  },
  {
   "cell_type": "code",
   "execution_count": 293,
   "metadata": {
    "id": "OtOfpu-Q_YqW"
   },
   "outputs": [
    {
     "name": "stdout",
     "output_type": "stream",
     "text": [
      "26.90627739169528\n",
      "27.401953993274283\n"
     ]
    }
   ],
   "source": [
    "print(smape(y_train, y_train_pred))\n",
    "print(smape(y_dev, y_dev_pred))"
   ]
  },
  {
   "cell_type": "code",
   "execution_count": 294,
   "metadata": {},
   "outputs": [],
   "source": [
    "from sklearn.ensemble import RandomForestRegressor\n",
    "\n",
    "column_transformer = make_column_transformer\\\n",
    "(\n",
    "    (vectorizer, \"name\"),\n",
    "    (scaler, [\"latitude\", \"longitude\", \"minimum_nights\", \"number_of_reviews\"]),\n",
    "    (ohe_2, [\"borough\", \"neighborhood\", \"room_type\"]),\n",
    "    remainder = \"passthrough\"\n",
    ")\n",
    "  \n",
    "rf_model = RandomForestRegressor(max_depth=20, n_estimators = 7, random_state=0)\n",
    "\n",
    "pipeline = make_pipeline(column_transformer, rf_model)\n",
    "pipeline.fit(X_train, y_train)\n",
    "\n",
    "y_train_pred = pipeline.predict(X_train)\n",
    "y_dev_pred = pipeline.predict(X_dev)"
   ]
  },
  {
   "cell_type": "code",
   "execution_count": 295,
   "metadata": {},
   "outputs": [
    {
     "name": "stdout",
     "output_type": "stream",
     "text": [
      "19.708177603854466\n",
      "26.25443952852131\n"
     ]
    }
   ],
   "source": [
    "print(smape(y_train, y_train_pred))\n",
    "print(smape(y_dev, y_dev_pred))"
   ]
  },
  {
   "cell_type": "code",
   "execution_count": 296,
   "metadata": {},
   "outputs": [
    {
     "name": "stdout",
     "output_type": "stream",
     "text": [
      "0.7738177530357847\n",
      "0.5714685300466067\n"
     ]
    }
   ],
   "source": [
    "print(r2_score(y_train, y_train_pred))\n",
    "print(r2_score(y_dev, y_dev_pred))"
   ]
  },
  {
   "cell_type": "markdown",
   "metadata": {},
   "source": [
    "## Test"
   ]
  },
  {
   "cell_type": "code",
   "execution_count": 305,
   "metadata": {},
   "outputs": [],
   "source": [
    "column_transformer = make_column_transformer\\\n",
    "(\n",
    "    (vectorizer, \"name\"),\n",
    "    (scaler, [\"minimum_nights\", \"number_of_reviews\", \"availability_365\"]),\n",
    "    (ohe, [\"neighborhood\", \"room_type\"]), \n",
    "    remainder = \"drop\"\n",
    ")\n",
    "\n",
    "linear_model = LinearRegression()\n",
    "\n",
    "pipeline = make_pipeline(column_transformer, linear_model)\n",
    "pipeline.fit(X_train, y_train)\n",
    "\n",
    "y_train_pred = pipeline.predict(X_train)\n",
    "y_dev_pred = pipeline.predict(X_dev)"
   ]
  },
  {
   "cell_type": "code",
   "execution_count": 306,
   "metadata": {},
   "outputs": [
    {
     "name": "stdout",
     "output_type": "stream",
     "text": [
      "0.5759796086340216\n",
      "0.5782208066561054\n"
     ]
    }
   ],
   "source": [
    "print(r2_score(y_train, y_train_pred))\n",
    "print(r2_score(y_dev, y_dev_pred))"
   ]
  },
  {
   "cell_type": "code",
   "execution_count": 298,
   "metadata": {
    "id": "GqfQEsjsWZS0"
   },
   "outputs": [
    {
     "name": "stdout",
     "output_type": "stream",
     "text": [
      "1927.305136245998\n"
     ]
    }
   ],
   "source": [
    "y_test_pred = pipeline.predict(X_test)\n",
    "\n",
    "print(mean_squared_error(y_test, y_test_pred))"
   ]
  },
  {
   "cell_type": "code",
   "execution_count": 307,
   "metadata": {},
   "outputs": [
    {
     "name": "stdout",
     "output_type": "stream",
     "text": [
      "25.18176195118123\n",
      "0.5647083523489469\n"
     ]
    }
   ],
   "source": [
    "print(smape(y_test, y_test_pred))\n",
    "print(r2_score(y_test, y_test_pred))"
   ]
  }
 ],
 "metadata": {
  "colab": {
   "collapsed_sections": [
    "7tdSWFPJmJsw",
    "y_ypWZp2sXx3"
   ],
   "provenance": []
  },
  "kernelspec": {
   "display_name": "Python 3 (ipykernel)",
   "language": "python",
   "name": "python3"
  },
  "language_info": {
   "codemirror_mode": {
    "name": "ipython",
    "version": 3
   },
   "file_extension": ".py",
   "mimetype": "text/x-python",
   "name": "python",
   "nbconvert_exporter": "python",
   "pygments_lexer": "ipython3",
   "version": "3.10.8"
  },
  "vscode": {
   "interpreter": {
    "hash": "aee8b7b246df8f9039afb4144a1f6fd8d2ca17a180786b69acc140d282b71a49"
   }
  }
 },
 "nbformat": 4,
 "nbformat_minor": 1
}
